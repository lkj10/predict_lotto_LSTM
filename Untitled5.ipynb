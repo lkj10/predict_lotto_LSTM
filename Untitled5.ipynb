{
  "nbformat": 4,
  "nbformat_minor": 0,
  "metadata": {
    "colab": {
      "name": "Untitled5.ipynb",
      "provenance": [],
      "collapsed_sections": [],
      "authorship_tag": "ABX9TyNZSh4EnZqc3UFev5wGSCaJ",
      "include_colab_link": true
    },
    "kernelspec": {
      "name": "python3",
      "display_name": "Python 3"
    },
    "language_info": {
      "name": "python"
    },
    "accelerator": "GPU"
  },
  "cells": [
    {
      "cell_type": "markdown",
      "metadata": {
        "id": "view-in-github",
        "colab_type": "text"
      },
      "source": [
        "<a href=\"https://colab.research.google.com/github/lkj10/predict_lotto_LSTM/blob/main/Untitled5.ipynb\" target=\"_parent\"><img src=\"https://colab.research.google.com/assets/colab-badge.svg\" alt=\"Open In Colab\"/></a>"
      ]
    },
    {
      "cell_type": "code",
      "metadata": {
        "id": "LnJD3rhj2XU3"
      },
      "source": [
        "import csv\n",
        "import tensorflow as tf\n",
        "from tensorflow import keras\n",
        "from tensorflow.keras import layers\n",
        "from tensorflow.keras import models\n",
        "import numpy as np\n",
        "import pandas as pd\n",
        "import requests\n",
        "from bs4 import BeautifulSoup"
      ],
      "execution_count": 2,
      "outputs": []
    },
    {
      "cell_type": "code",
      "metadata": {
        "colab": {
          "base_uri": "https://localhost:8080/",
          "height": 732
        },
        "id": "bR3pyhMb2hp3",
        "outputId": "e75593a4-b6f4-4736-d338-c25e89e43cc2"
      },
      "source": [
        "from __future__ import absolute_import, division, print_function, unicode_literals\n",
        "!pip install tensorflow-gpu==2.0.0-rc1"
      ],
      "execution_count": 3,
      "outputs": [
        {
          "output_type": "stream",
          "text": [
            "Collecting tensorflow-gpu==2.0.0-rc1\n",
            "\u001b[?25l  Downloading https://files.pythonhosted.org/packages/69/2c/316e5aaa3fa76a43ed659a45aa2d79ea23308770fb6e5ff28e70ce6d67f9/tensorflow_gpu-2.0.0rc1-cp37-cp37m-manylinux2010_x86_64.whl (380.5MB)\n",
            "\u001b[K     |████████████████████████████████| 380.5MB 44kB/s \n",
            "\u001b[?25hRequirement already satisfied: grpcio>=1.8.6 in /usr/local/lib/python3.7/dist-packages (from tensorflow-gpu==2.0.0-rc1) (1.32.0)\n",
            "Requirement already satisfied: gast>=0.2.0 in /usr/local/lib/python3.7/dist-packages (from tensorflow-gpu==2.0.0-rc1) (0.3.3)\n",
            "Requirement already satisfied: numpy<2.0,>=1.16.0 in /usr/local/lib/python3.7/dist-packages (from tensorflow-gpu==2.0.0-rc1) (1.19.5)\n",
            "Collecting keras-applications>=1.0.8\n",
            "\u001b[?25l  Downloading https://files.pythonhosted.org/packages/71/e3/19762fdfc62877ae9102edf6342d71b28fbfd9dea3d2f96a882ce099b03f/Keras_Applications-1.0.8-py3-none-any.whl (50kB)\n",
            "\u001b[K     |████████████████████████████████| 51kB 7.8MB/s \n",
            "\u001b[?25hRequirement already satisfied: protobuf>=3.6.1 in /usr/local/lib/python3.7/dist-packages (from tensorflow-gpu==2.0.0-rc1) (3.12.4)\n",
            "Requirement already satisfied: wrapt>=1.11.1 in /usr/local/lib/python3.7/dist-packages (from tensorflow-gpu==2.0.0-rc1) (1.12.1)\n",
            "Requirement already satisfied: keras-preprocessing>=1.0.5 in /usr/local/lib/python3.7/dist-packages (from tensorflow-gpu==2.0.0-rc1) (1.1.2)\n",
            "Requirement already satisfied: six>=1.10.0 in /usr/local/lib/python3.7/dist-packages (from tensorflow-gpu==2.0.0-rc1) (1.15.0)\n",
            "Collecting tf-estimator-nightly<1.14.0.dev2019080602,>=1.14.0.dev2019080601\n",
            "\u001b[?25l  Downloading https://files.pythonhosted.org/packages/21/28/f2a27a62943d5f041e4a6fd404b2d21cb7c59b2242a4e73b03d9ba166552/tf_estimator_nightly-1.14.0.dev2019080601-py2.py3-none-any.whl (501kB)\n",
            "\u001b[K     |████████████████████████████████| 501kB 54.2MB/s \n",
            "\u001b[?25hRequirement already satisfied: absl-py>=0.7.0 in /usr/local/lib/python3.7/dist-packages (from tensorflow-gpu==2.0.0-rc1) (0.12.0)\n",
            "Requirement already satisfied: termcolor>=1.1.0 in /usr/local/lib/python3.7/dist-packages (from tensorflow-gpu==2.0.0-rc1) (1.1.0)\n",
            "Requirement already satisfied: google-pasta>=0.1.6 in /usr/local/lib/python3.7/dist-packages (from tensorflow-gpu==2.0.0-rc1) (0.2.0)\n",
            "Requirement already satisfied: wheel>=0.26 in /usr/local/lib/python3.7/dist-packages (from tensorflow-gpu==2.0.0-rc1) (0.36.2)\n",
            "Collecting tb-nightly<1.15.0a20190807,>=1.15.0a20190806\n",
            "\u001b[?25l  Downloading https://files.pythonhosted.org/packages/bc/88/24b5fb7280e74c7cf65bde47c171547fd02afb3840cff41bcbe9270650f5/tb_nightly-1.15.0a20190806-py3-none-any.whl (4.3MB)\n",
            "\u001b[K     |████████████████████████████████| 4.3MB 48.3MB/s \n",
            "\u001b[?25hRequirement already satisfied: opt-einsum>=2.3.2 in /usr/local/lib/python3.7/dist-packages (from tensorflow-gpu==2.0.0-rc1) (3.3.0)\n",
            "Requirement already satisfied: astor>=0.6.0 in /usr/local/lib/python3.7/dist-packages (from tensorflow-gpu==2.0.0-rc1) (0.8.1)\n",
            "Requirement already satisfied: h5py in /usr/local/lib/python3.7/dist-packages (from keras-applications>=1.0.8->tensorflow-gpu==2.0.0-rc1) (2.10.0)\n",
            "Requirement already satisfied: setuptools in /usr/local/lib/python3.7/dist-packages (from protobuf>=3.6.1->tensorflow-gpu==2.0.0-rc1) (54.2.0)\n",
            "Requirement already satisfied: markdown>=2.6.8 in /usr/local/lib/python3.7/dist-packages (from tb-nightly<1.15.0a20190807,>=1.15.0a20190806->tensorflow-gpu==2.0.0-rc1) (3.3.4)\n",
            "Requirement already satisfied: werkzeug>=0.11.15 in /usr/local/lib/python3.7/dist-packages (from tb-nightly<1.15.0a20190807,>=1.15.0a20190806->tensorflow-gpu==2.0.0-rc1) (1.0.1)\n",
            "Requirement already satisfied: importlib-metadata; python_version < \"3.8\" in /usr/local/lib/python3.7/dist-packages (from markdown>=2.6.8->tb-nightly<1.15.0a20190807,>=1.15.0a20190806->tensorflow-gpu==2.0.0-rc1) (3.10.0)\n",
            "Requirement already satisfied: typing-extensions>=3.6.4; python_version < \"3.8\" in /usr/local/lib/python3.7/dist-packages (from importlib-metadata; python_version < \"3.8\"->markdown>=2.6.8->tb-nightly<1.15.0a20190807,>=1.15.0a20190806->tensorflow-gpu==2.0.0-rc1) (3.7.4.3)\n",
            "Requirement already satisfied: zipp>=0.5 in /usr/local/lib/python3.7/dist-packages (from importlib-metadata; python_version < \"3.8\"->markdown>=2.6.8->tb-nightly<1.15.0a20190807,>=1.15.0a20190806->tensorflow-gpu==2.0.0-rc1) (3.4.1)\n",
            "Installing collected packages: keras-applications, tf-estimator-nightly, tb-nightly, tensorflow-gpu\n",
            "Successfully installed keras-applications-1.0.8 tb-nightly-1.15.0a20190806 tensorflow-gpu-2.0.0rc1 tf-estimator-nightly-1.14.0.dev2019080601\n"
          ],
          "name": "stdout"
        },
        {
          "output_type": "display_data",
          "data": {
            "application/vnd.colab-display-data+json": {
              "pip_warning": {
                "packages": [
                  "tensorboard",
                  "tensorflow"
                ]
              }
            }
          },
          "metadata": {
            "tags": []
          }
        }
      ]
    },
    {
      "cell_type": "code",
      "metadata": {
        "id": "-v0LhCo320wc"
      },
      "source": [
        "# 마지막 회차를 얻기 위한 주소\n",
        "main_url = \"https://www.dhlottery.co.kr/gameResult.do?method=byWin\"\n",
        "\n",
        "# 임의의 회차를 얻기 위한 주소\n",
        "basic_url = \"https://www.dhlottery.co.kr/gameResult.do?method=byWin&drwNo=\"\n",
        "\n",
        "\n",
        "def get_last_num():\n",
        "    num_list = []\n",
        "    request = requests.get(main_url)\n",
        "    soup = BeautifulSoup(request.text, 'html.parser')\n",
        "    num = soup.find(\"h4\").text\n",
        "    for i in num:\n",
        "        try:\n",
        "            if(int(i)):\n",
        "                num_list.append(i)\n",
        "        except:\n",
        "            pass\n",
        "    lotto_num = ''.join(num_list)\n",
        "    return int(lotto_num)\n",
        "\n",
        "# 특정회차 로또 번호 알려주는 함수\n",
        "\n",
        "\n",
        "def get_ball_num(num):\n",
        "    url = f\"{basic_url}{num}\"\n",
        "    balls_list = []\n",
        "    request = requests.get(url)\n",
        "    soup = BeautifulSoup(request.text, 'html.parser')\n",
        "    balls = soup.find_all(\"span\", {\"class\": \"ball_645\"})\n",
        "    if balls:\n",
        "        for ball in balls:\n",
        "            balls_list.append(int(ball.string))\n",
        "    return balls_list"
      ],
      "execution_count": 4,
      "outputs": []
    },
    {
      "cell_type": "code",
      "metadata": {
        "id": "98EKoLmu22wC"
      },
      "source": [
        "def save_to_file(dic):\n",
        "    file = open(\"lotto.csv\", mode=\"w\", encoding='utf-8', newline='')\n",
        "    writer = csv.writer(file)\n",
        "    writer.writerow([\"times\", \"num1\", \"num2\", \"num3\", \"num4\", \"num5\", \"num6\", \"bonus\"])\n",
        "    for key, val in dic.items():\n",
        "        temp = [key] + val\n",
        "        writer.writerow(list(temp))\n",
        "    return"
      ],
      "execution_count": 5,
      "outputs": []
    },
    {
      "cell_type": "code",
      "metadata": {
        "id": "FnsGqiIy24dp"
      },
      "source": [
        "\n",
        "#로또 리스트 원핫코딩으로 바꾸는 함수\n",
        "def numbers2ohbin(numbers):\n",
        "    ohbin = np.zeros(45)\n",
        "    for i in range(7):\n",
        "        ohbin[int(numbers[i])-1] = 1\n",
        "    return ohbin\n",
        "\n",
        "#원핫코딩한거 다시 로또 리스트로 바꾸는 함수\n",
        "def ohbin2numbers(ohbin):\n",
        "    numbers = []\n",
        "    for i in range(len(ohbin)):\n",
        "        if ohbin[i] == 1.0:\n",
        "            numbers.append(i+1)\n",
        "    return numbers\n"
      ],
      "execution_count": 6,
      "outputs": []
    },
    {
      "cell_type": "code",
      "metadata": {
        "colab": {
          "resources": {
            "http://localhost:8080/nbextensions/google.colab/files.js": {
              "data": "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",
              "ok": true,
              "headers": [
                [
                  "content-type",
                  "application/javascript"
                ]
              ],
              "status": 200,
              "status_text": ""
            }
          },
          "base_uri": "https://localhost:8080/",
          "height": 76
        },
        "id": "Rmc27bEX4gXO",
        "outputId": "7cf722cd-5eba-4629-91ed-8e7762d0d1fc"
      },
      "source": [
        "from google.colab import files \n",
        "uploaded = files.upload()"
      ],
      "execution_count": 7,
      "outputs": [
        {
          "output_type": "display_data",
          "data": {
            "text/html": [
              "\n",
              "     <input type=\"file\" id=\"files-fd3c5483-7f36-4bd3-859a-83063eb8b2c5\" name=\"files[]\" multiple disabled\n",
              "        style=\"border:none\" />\n",
              "     <output id=\"result-fd3c5483-7f36-4bd3-859a-83063eb8b2c5\">\n",
              "      Upload widget is only available when the cell has been executed in the\n",
              "      current browser session. Please rerun this cell to enable.\n",
              "      </output>\n",
              "      <script src=\"/nbextensions/google.colab/files.js\"></script> "
            ],
            "text/plain": [
              "<IPython.core.display.HTML object>"
            ]
          },
          "metadata": {
            "tags": []
          }
        },
        {
          "output_type": "stream",
          "text": [
            "Saving lotto.csv to lotto.csv\n"
          ],
          "name": "stdout"
        }
      ]
    },
    {
      "cell_type": "code",
      "metadata": {
        "id": "pTZRMuuC26Rw"
      },
      "source": [
        "# 회차랑 로또 번호 합쳐서 딕셔너리로 만드는 함수\n",
        "def make_dic(num):\n",
        "    dic = {}\n",
        "    for i in range(1, num+1):\n",
        "        dic[f\"{i}\"] = get_ball_num(i)\n",
        "    return dic\n",
        "\n",
        "\n",
        "# save_to_file(make_dic(get_last_num()))\n",
        "\n",
        "# print(numbers2ohbin(get_ball_num(get_last_num())))\n",
        "\n",
        "\n",
        "import io \n",
        "df = pd.read_csv(io.BytesIO(uploaded['lotto.csv']))\n"
      ],
      "execution_count": 8,
      "outputs": []
    },
    {
      "cell_type": "code",
      "metadata": {
        "id": "EyUAdyJaJMEI"
      },
      "source": [
        "try:\n",
        "  df.drop('times', axis=1, inplace=True)\n",
        "except:\n",
        "  pass\n",
        "\n",
        "List = []\n",
        "for i in range(get_last_num()):\n",
        "  List.append(numbers2ohbin(np.array(df.loc[i].tolist())))\n"
      ],
      "execution_count": 9,
      "outputs": []
    },
    {
      "cell_type": "code",
      "metadata": {
        "colab": {
          "base_uri": "https://localhost:8080/"
        },
        "id": "xR50K7AE2_zD",
        "outputId": "de64b94c-1dfc-44a5-d36a-3d60832b9049"
      },
      "source": [
        "x_samples = List[0:get_last_num()-1]\n",
        "y_samples = List[1:get_last_num()]\n",
        "\n",
        "# 훈련셋: (1회 입력, 2회 출력)부터 (700회 입력, 701회)까지 700개 샘플\n",
        "# 검증셋: (701회, 702회)부터 (800회, 801회)까지 100개 샘플\n",
        "# 시험셋: (801회, 802회)부터 (893회, 958회)까지 93개 샘플\n",
        "\n",
        "train_idx = (0, 800)\n",
        "val_idx = (800, 900)\n",
        "test_idx = (900, get_last_num())\n",
        "\n",
        "print(\"train: {0}, val: {1}, test: {2}\".format(train_idx, val_idx, test_idx))\n",
        "\n",
        "\n",
        "# 모델을 정의\n",
        "model = keras.Sequential([\n",
        "    keras.layers.LSTM(128, batch_input_shape=(1, 1, 45),\n",
        "                      return_sequences=False, stateful=True),\n",
        "    keras.layers.Dense(45, activation='sigmoid')\n",
        "])\n",
        "\n",
        "# 모델을 컴파일\n",
        "model.compile(loss='binary_crossentropy',\n",
        "              optimizer='adam', metrics=['accuracy'])"
      ],
      "execution_count": 10,
      "outputs": [
        {
          "output_type": "stream",
          "text": [
            "train: (0, 800), val: (800, 900), test: (900, 958)\n"
          ],
          "name": "stdout"
        }
      ]
    },
    {
      "cell_type": "code",
      "metadata": {
        "id": "hzF1_Bfz3CAm"
      },
      "source": [
        "# 매 에포크마다 훈련과 검증의 손실 및 정확도를 기록하기 위한 변수\n",
        "train_loss = []\n",
        "train_acc = []\n",
        "val_loss = []\n",
        "val_acc = []\n"
      ],
      "execution_count": 11,
      "outputs": []
    },
    {
      "cell_type": "code",
      "metadata": {
        "colab": {
          "base_uri": "https://localhost:8080/"
        },
        "id": "HwiHXMqZ3D5H",
        "outputId": "c0ddc7f8-775d-4c78-cf01-16a8db8c8479"
      },
      "source": [
        "# 최대 100번 에포크까지 수행\n",
        "for epoch in range(100):\n",
        "\n",
        "    model.reset_states()  #매 에포크마다 1회부터 다시 훈련하므로 상태 초기화 필요\n",
        "\n",
        "    batch_train_loss = []\n",
        "    batch_train_acc = []\n",
        "\n",
        "    for i in range(train_idx[0], train_idx[1]):\n",
        "\n",
        "        xs = x_samples[i].reshape(1, 1, 45)\n",
        "        ys = y_samples[i].reshape(1, 45)\n",
        "\n",
        "        loss, acc = model.train_on_batch(xs, ys)  # 배치만큼 모델에 학습시킴\n",
        "\n",
        "        batch_train_loss.append(loss)\n",
        "        batch_train_acc.append(acc)\n",
        "\n",
        "    train_loss.append(np.mean(batch_train_loss))\n",
        "    train_acc.append(np.mean(batch_train_acc))\n",
        "\n",
        "    batch_val_loss = []\n",
        "    batch_val_acc = []\n",
        "\n",
        "    for i in range(val_idx[0], val_idx[1]):\n",
        "        xs = x_samples[i].reshape(1, 1, 45)\n",
        "        ys = y_samples[i].reshape(1, 45)\n",
        "\n",
        "        loss, acc = model.test_on_batch(xs, ys)  # 배치만큼 모델에 입력하여 나온 답을 정답과 비교함\n",
        "\n",
        "        batch_val_loss.append(loss)\n",
        "        batch_val_acc.append(acc)\n",
        "\n",
        "    val_loss.append(np.mean(batch_val_loss))\n",
        "    val_acc.append(np.mean(batch_val_acc))\n",
        "\n",
        "    print('epoch {0:4d} train acc {1:0.3f} loss {2:0.3f} val acc {3:0.3f} loss {4:0.3f}'.format(\n",
        "        epoch, np.mean(batch_train_acc), np.mean(batch_train_loss), np.mean(batch_val_acc), np.mean(batch_val_loss)))\n",
        "\n",
        "    model.save('model_{0:04d}.h5'.format(epoch+1))"
      ],
      "execution_count": 12,
      "outputs": [
        {
          "output_type": "stream",
          "text": [
            "epoch    0 train acc 0.030 loss 0.447 val acc 0.050 loss 0.437\n",
            "epoch    1 train acc 0.036 loss 0.436 val acc 0.050 loss 0.437\n",
            "epoch    2 train acc 0.039 loss 0.433 val acc 0.050 loss 0.437\n",
            "epoch    3 train acc 0.049 loss 0.430 val acc 0.040 loss 0.438\n",
            "epoch    4 train acc 0.037 loss 0.426 val acc 0.050 loss 0.440\n",
            "epoch    5 train acc 0.048 loss 0.421 val acc 0.040 loss 0.444\n",
            "epoch    6 train acc 0.049 loss 0.415 val acc 0.040 loss 0.448\n",
            "epoch    7 train acc 0.056 loss 0.409 val acc 0.040 loss 0.452\n",
            "epoch    8 train acc 0.064 loss 0.402 val acc 0.050 loss 0.456\n",
            "epoch    9 train acc 0.065 loss 0.395 val acc 0.020 loss 0.460\n",
            "epoch   10 train acc 0.066 loss 0.388 val acc 0.010 loss 0.464\n",
            "epoch   11 train acc 0.074 loss 0.379 val acc 0.020 loss 0.469\n",
            "epoch   12 train acc 0.076 loss 0.370 val acc 0.020 loss 0.474\n",
            "epoch   13 train acc 0.081 loss 0.360 val acc 0.020 loss 0.480\n",
            "epoch   14 train acc 0.090 loss 0.349 val acc 0.000 loss 0.486\n",
            "epoch   15 train acc 0.089 loss 0.338 val acc 0.010 loss 0.494\n",
            "epoch   16 train acc 0.096 loss 0.327 val acc 0.010 loss 0.502\n",
            "epoch   17 train acc 0.089 loss 0.315 val acc 0.010 loss 0.512\n",
            "epoch   18 train acc 0.090 loss 0.304 val acc 0.010 loss 0.520\n",
            "epoch   19 train acc 0.083 loss 0.292 val acc 0.020 loss 0.529\n",
            "epoch   20 train acc 0.092 loss 0.280 val acc 0.020 loss 0.539\n",
            "epoch   21 train acc 0.110 loss 0.268 val acc 0.010 loss 0.550\n",
            "epoch   22 train acc 0.115 loss 0.256 val acc 0.010 loss 0.562\n",
            "epoch   23 train acc 0.111 loss 0.245 val acc 0.010 loss 0.574\n",
            "epoch   24 train acc 0.115 loss 0.234 val acc 0.010 loss 0.584\n",
            "epoch   25 train acc 0.119 loss 0.223 val acc 0.020 loss 0.597\n",
            "epoch   26 train acc 0.121 loss 0.213 val acc 0.010 loss 0.612\n",
            "epoch   27 train acc 0.120 loss 0.201 val acc 0.010 loss 0.624\n",
            "epoch   28 train acc 0.111 loss 0.192 val acc 0.010 loss 0.640\n",
            "epoch   29 train acc 0.122 loss 0.182 val acc 0.000 loss 0.648\n",
            "epoch   30 train acc 0.133 loss 0.173 val acc 0.030 loss 0.659\n",
            "epoch   31 train acc 0.119 loss 0.165 val acc 0.010 loss 0.675\n",
            "epoch   32 train acc 0.117 loss 0.162 val acc 0.020 loss 0.683\n",
            "epoch   33 train acc 0.109 loss 0.155 val acc 0.030 loss 0.704\n",
            "epoch   34 train acc 0.124 loss 0.143 val acc 0.030 loss 0.703\n",
            "epoch   35 train acc 0.125 loss 0.137 val acc 0.030 loss 0.715\n",
            "epoch   36 train acc 0.110 loss 0.137 val acc 0.030 loss 0.724\n",
            "epoch   37 train acc 0.129 loss 0.132 val acc 0.040 loss 0.734\n",
            "epoch   38 train acc 0.126 loss 0.125 val acc 0.010 loss 0.746\n",
            "epoch   39 train acc 0.147 loss 0.114 val acc 0.020 loss 0.761\n",
            "epoch   40 train acc 0.131 loss 0.111 val acc 0.000 loss 0.770\n",
            "epoch   41 train acc 0.131 loss 0.109 val acc 0.000 loss 0.779\n",
            "epoch   42 train acc 0.131 loss 0.103 val acc 0.020 loss 0.785\n",
            "epoch   43 train acc 0.116 loss 0.101 val acc 0.040 loss 0.795\n",
            "epoch   44 train acc 0.135 loss 0.095 val acc 0.020 loss 0.817\n",
            "epoch   45 train acc 0.139 loss 0.089 val acc 0.030 loss 0.823\n",
            "epoch   46 train acc 0.122 loss 0.087 val acc 0.040 loss 0.840\n",
            "epoch   47 train acc 0.125 loss 0.091 val acc 0.020 loss 0.848\n",
            "epoch   48 train acc 0.144 loss 0.080 val acc 0.010 loss 0.875\n",
            "epoch   49 train acc 0.159 loss 0.077 val acc 0.030 loss 0.874\n",
            "epoch   50 train acc 0.126 loss 0.072 val acc 0.030 loss 0.883\n",
            "epoch   51 train acc 0.131 loss 0.076 val acc 0.010 loss 0.905\n",
            "epoch   52 train acc 0.138 loss 0.064 val acc 0.030 loss 0.923\n",
            "epoch   53 train acc 0.126 loss 0.064 val acc 0.010 loss 0.922\n",
            "epoch   54 train acc 0.142 loss 0.060 val acc 0.030 loss 0.930\n",
            "epoch   55 train acc 0.144 loss 0.055 val acc 0.010 loss 0.936\n",
            "epoch   56 train acc 0.121 loss 0.051 val acc 0.020 loss 0.942\n",
            "epoch   57 train acc 0.141 loss 0.053 val acc 0.020 loss 0.976\n",
            "epoch   58 train acc 0.124 loss 0.054 val acc 0.020 loss 0.988\n",
            "epoch   59 train acc 0.156 loss 0.055 val acc 0.040 loss 0.998\n",
            "epoch   60 train acc 0.126 loss 0.046 val acc 0.010 loss 0.977\n",
            "epoch   61 train acc 0.144 loss 0.041 val acc 0.020 loss 0.989\n",
            "epoch   62 train acc 0.142 loss 0.044 val acc 0.020 loss 1.014\n",
            "epoch   63 train acc 0.156 loss 0.043 val acc 0.020 loss 1.018\n",
            "epoch   64 train acc 0.131 loss 0.044 val acc 0.000 loss 1.049\n",
            "epoch   65 train acc 0.159 loss 0.040 val acc 0.010 loss 1.041\n",
            "epoch   66 train acc 0.141 loss 0.037 val acc 0.030 loss 1.061\n",
            "epoch   67 train acc 0.121 loss 0.034 val acc 0.010 loss 1.059\n",
            "epoch   68 train acc 0.130 loss 0.034 val acc 0.020 loss 1.091\n",
            "epoch   69 train acc 0.140 loss 0.038 val acc 0.020 loss 1.077\n",
            "epoch   70 train acc 0.139 loss 0.034 val acc 0.020 loss 1.098\n",
            "epoch   71 train acc 0.111 loss 0.033 val acc 0.030 loss 1.126\n",
            "epoch   72 train acc 0.141 loss 0.032 val acc 0.020 loss 1.140\n",
            "epoch   73 train acc 0.150 loss 0.033 val acc 0.020 loss 1.162\n",
            "epoch   74 train acc 0.145 loss 0.033 val acc 0.020 loss 1.172\n",
            "epoch   75 train acc 0.131 loss 0.032 val acc 0.010 loss 1.170\n",
            "epoch   76 train acc 0.154 loss 0.024 val acc 0.010 loss 1.138\n",
            "epoch   77 train acc 0.133 loss 0.025 val acc 0.000 loss 1.176\n",
            "epoch   78 train acc 0.147 loss 0.025 val acc 0.010 loss 1.178\n",
            "epoch   79 train acc 0.133 loss 0.026 val acc 0.000 loss 1.200\n",
            "epoch   80 train acc 0.141 loss 0.027 val acc 0.000 loss 1.217\n",
            "epoch   81 train acc 0.147 loss 0.022 val acc 0.010 loss 1.216\n",
            "epoch   82 train acc 0.145 loss 0.024 val acc 0.000 loss 1.262\n",
            "epoch   83 train acc 0.129 loss 0.021 val acc 0.010 loss 1.245\n",
            "epoch   84 train acc 0.158 loss 0.025 val acc 0.030 loss 1.235\n",
            "epoch   85 train acc 0.150 loss 0.026 val acc 0.010 loss 1.236\n",
            "epoch   86 train acc 0.128 loss 0.022 val acc 0.000 loss 1.277\n",
            "epoch   87 train acc 0.164 loss 0.019 val acc 0.020 loss 1.285\n",
            "epoch   88 train acc 0.129 loss 0.016 val acc 0.030 loss 1.283\n",
            "epoch   89 train acc 0.145 loss 0.016 val acc 0.020 loss 1.289\n",
            "epoch   90 train acc 0.120 loss 0.016 val acc 0.010 loss 1.319\n",
            "epoch   91 train acc 0.145 loss 0.019 val acc 0.010 loss 1.269\n",
            "epoch   92 train acc 0.152 loss 0.022 val acc 0.010 loss 1.284\n",
            "epoch   93 train acc 0.146 loss 0.021 val acc 0.000 loss 1.306\n",
            "epoch   94 train acc 0.126 loss 0.017 val acc 0.010 loss 1.297\n",
            "epoch   95 train acc 0.147 loss 0.018 val acc 0.020 loss 1.340\n",
            "epoch   96 train acc 0.128 loss 0.014 val acc 0.020 loss 1.364\n",
            "epoch   97 train acc 0.141 loss 0.016 val acc 0.010 loss 1.377\n",
            "epoch   98 train acc 0.165 loss 0.019 val acc 0.010 loss 1.326\n",
            "epoch   99 train acc 0.166 loss 0.019 val acc 0.010 loss 1.316\n"
          ],
          "name": "stdout"
        }
      ]
    },
    {
      "cell_type": "code",
      "metadata": {
        "colab": {
          "base_uri": "https://localhost:8080/",
          "height": 279
        },
        "id": "_VxN1Qr6UWGN",
        "outputId": "13f1df52-4a18-40f9-bee0-41d9885acc3b"
      },
      "source": [
        "%matplotlib inline\n",
        "import matplotlib.pyplot as plt\n",
        "\n",
        "fig, loss_ax = plt.subplots()\n",
        "\n",
        "acc_ax = loss_ax.twinx()\n",
        "\n",
        "loss_ax.plot(train_loss, 'y', label='train loss')\n",
        "loss_ax.plot(val_loss, 'r', label='val loss')\n",
        "\n",
        "acc_ax.plot(train_acc, 'b', label='train acc')\n",
        "acc_ax.plot(val_acc, 'g', label='val acc')\n",
        "\n",
        "loss_ax.set_xlabel('epoch')\n",
        "loss_ax.set_ylabel('loss')\n",
        "acc_ax.set_ylabel('accuray')\n",
        "\n",
        "loss_ax.legend(loc='upper left')\n",
        "acc_ax.legend(loc='lower left')\n",
        "\n",
        "plt.show()"
      ],
      "execution_count": 16,
      "outputs": [
        {
          "output_type": "display_data",
          "data": {
            "image/png": "[encoded data removed]",
            "text/plain": [
              "<Figure size 432x288 with 2 Axes>"
            ]
          },
          "metadata": {
            "tags": [],
            "needs_background": "light"
          }
        }
      ]
    },
    {
      "cell_type": "code",
      "metadata": {
        "id": "dieo18yUUG7A"
      },
      "source": [
        "def gen_numbers_from_probability(nums_prob):\n",
        "\n",
        "    ball_box = []\n",
        "\n",
        "    for n in range(45):\n",
        "        ball_count = int(nums_prob[n] * 100 + 1)\n",
        "        ball = np.full((ball_count), n+1) #1부터 시작\n",
        "        ball_box += list(ball)\n",
        "\n",
        "    selected_balls = []\n",
        "\n",
        "    while True:\n",
        "        \n",
        "        if len(selected_balls) == 7:\n",
        "            break\n",
        "        \n",
        "        ball_index = np.random.randint(len(ball_box), size=1)[0]\n",
        "        ball = ball_box[ball_index]\n",
        "\n",
        "        if ball not in selected_balls:\n",
        "            selected_balls.append(ball)\n",
        "\n",
        "    return selected_balls"
      ],
      "execution_count": 17,
      "outputs": []
    },
    {
      "cell_type": "code",
      "metadata": {
        "colab": {
          "base_uri": "https://localhost:8080/"
        },
        "id": "Jryk3bgAUKcV",
        "outputId": "fdceea06-d17e-4efb-d5a5-95e3bea5adba"
      },
      "source": [
        "print('receive numbers')\n",
        "xs = x_samples[-1].reshape(1, 1, 45)\n",
        "ys_pred = model.predict_on_batch(xs)\n",
        "list_numbers = []\n",
        "\n",
        "for n in range(10):\n",
        "    numbers = gen_numbers_from_probability(ys_pred[0])\n",
        "    print('{0} : {1}'.format(n+1, numbers))\n",
        "    list_numbers.append(numbers)"
      ],
      "execution_count": 21,
      "outputs": [
        {
          "output_type": "stream",
          "text": [
            "receive numbers\n",
            "1 : [28, 3, 38, 32, 6, 2, 39]\n",
            "2 : [38, 3, 6, 28, 36, 32, 43]\n",
            "3 : [32, 38, 3, 39, 28, 6, 45]\n",
            "4 : [32, 3, 38, 28, 6, 16, 45]\n",
            "5 : [3, 5, 28, 23, 7, 6, 38]\n",
            "6 : [28, 32, 3, 38, 43, 39, 19]\n",
            "7 : [38, 32, 37, 2, 33, 6, 3]\n",
            "8 : [17, 3, 32, 28, 27, 20, 21]\n",
            "9 : [3, 32, 28, 22, 26, 38, 14]\n",
            "10 : [28, 32, 22, 3, 38, 13, 6]\n"
          ],
          "name": "stdout"
        }
      ]
    }
  ]
}